{
 "cells": [
  {
   "cell_type": "markdown",
   "id": "45f15596",
   "metadata": {},
   "source": [
    "##### Author: Jimin Kim (jk55@uw.edu)\n",
    "##### Version 1.5.0"
   ]
  },
  {
   "cell_type": "markdown",
   "id": "386f8fca",
   "metadata": {},
   "source": [
    "# Lab 2 Report"
   ]
  },
  {
   "cell_type": "markdown",
   "id": "f90c1cd2",
   "metadata": {},
   "source": [
    "### Group Members:"
   ]
  },
  {
   "cell_type": "code",
   "execution_count": 9,
   "id": "77d02be7",
   "metadata": {},
   "outputs": [],
   "source": [
    "import numpy as np"
   ]
  },
  {
   "cell_type": "markdown",
   "id": "d8208d76",
   "metadata": {},
   "source": [
    "# Exercise 1: Loops vs Numpy operations"
   ]
  },
  {
   "cell_type": "markdown",
   "id": "1804ca1d",
   "metadata": {},
   "source": [
    "<img src=\"lab2_exercise1.png\" width=\"1000\">"
   ]
  },
  {
   "cell_type": "code",
   "execution_count": 10,
   "id": "03d6479d",
   "metadata": {},
   "outputs": [],
   "source": [
    "import time # Import time to measure computational efficiency of the code\n"
   ]
  },
  {
   "cell_type": "code",
   "execution_count": 22,
   "id": "05eb4964",
   "metadata": {},
   "outputs": [],
   "source": [
    "arr2d_1 = np.random.randn(1000, 1000) * 10\n",
    "arr2d_2 = np.random.randn(1000, 1000) * 10\n"
   ]
  },
  {
   "cell_type": "code",
   "execution_count": 19,
   "id": "e882592a",
   "metadata": {},
   "outputs": [
    {
     "name": "stdout",
     "output_type": "stream",
     "text": [
      "[[ 16.88441342   6.99730949   5.93591578 ...  15.68508808  12.30516877\n",
      "   13.83513846]\n",
      " [-23.61499915  14.08406392  20.61472702 ...  25.24391896   7.47274826\n",
      "   -3.18842225]\n",
      " [ 13.36013092 -14.47123622  -4.1425469  ...  -4.78575727   3.06518591\n",
      "    6.14664658]\n",
      " ...\n",
      " [ 18.50214747 -12.42314721   1.96780214 ... -22.58999538  11.22832471\n",
      "   10.64554628]\n",
      " [ 13.36026699  21.03962334  27.69074833 ...   1.49636493   5.27611605\n",
      "    4.27948998]\n",
      " [ -6.94008689  -8.24730173   2.62187455 ...   5.06143102   1.4918345\n",
      "   -3.58812489]]\n",
      "0.450437068939209\n"
     ]
    }
   ],
   "source": [
    "# Elementwise addition using loop\n",
    "\n",
    "arr2d_3_loop = np.zeros((1000, 1000)) # Create a placeholder array for arr2d_3\n",
    "\n",
    "start_time_loop = time.time() # start time of the code\n",
    "\n",
    "for i in range(0,1000) :\n",
    "    for j in range(0,1000) :\n",
    "        arr2d_3_loop[i,j] = arr2d_1[i,j] + arr2d_2[i,j]\n",
    "    \n",
    "\n",
    "\n",
    "end_time_loop = time.time() # end time of the code\n",
    "print(arr2d_3_loop)\n",
    "elapsed_time_loop = end_time_loop - start_time_loop # end time - start time -> elapsed time in seconds\n",
    "print(elapsed_time_loop)"
   ]
  },
  {
   "cell_type": "code",
   "execution_count": 23,
   "id": "0086daf9",
   "metadata": {},
   "outputs": [
    {
     "name": "stdout",
     "output_type": "stream",
     "text": [
      "[[ -7.08718271   2.19927812 -10.29746987 ...  21.570214    -1.92621391\n",
      "   -1.23677373]\n",
      " [-18.10816037 -17.91379341  13.24203731 ...  -1.95395748   3.80529547\n",
      "  -13.9211997 ]\n",
      " [  7.10270808   4.01932954  21.18434217 ...  25.85225759 -26.99433083\n",
      "    5.90272586]\n",
      " ...\n",
      " [ 33.87218814  10.6046623   -4.04117105 ...  16.33283094 -43.31121868\n",
      "   -0.71932721]\n",
      " [ -7.17366479   5.66345725  -3.22033382 ...   9.86201004   7.98884882\n",
      "   22.16423316]\n",
      " [  0.94028308   6.57945865 -12.30360623 ...  -7.21010689  21.86119592\n",
      "    1.64182179]]\n",
      "0.0026471614837646484\n"
     ]
    }
   ],
   "source": [
    "# Elementwise addition using Numpy function\n",
    "\n",
    "start_time_np = time.time()\n",
    "\n",
    "arr2d_3_np = np.add(arr2d_1, arr2d_2)\n",
    "print(arr2d_3_np)\n",
    "end_time_np = time.time()\n",
    "\n",
    "elapsed_time_np = end_time_np - start_time_np\n",
    "print(elapsed_time_np)"
   ]
  },
  {
   "cell_type": "code",
   "execution_count": 20,
   "id": "218b68fe",
   "metadata": {},
   "outputs": [
    {
     "data": {
      "text/plain": [
       "False"
      ]
     },
     "execution_count": 20,
     "metadata": {},
     "output_type": "execute_result"
    }
   ],
   "source": [
    "# Make sure two outputs are equivalent\n",
    "\n",
    "np.sum(arr2d_3_loop == arr2d_3_np) == 1000 * 1000 # Should output True if the outputs are same"
   ]
  },
  {
   "cell_type": "markdown",
   "id": "f6353d1b",
   "metadata": {},
   "source": [
    "### Which computation is faster and by what factor?\n",
    "### e.g. a code that takes 0.1s is faster by a factor of 10 compared to a code that takes 1s"
   ]
  },
  {
   "cell_type": "code",
   "execution_count": null,
   "id": "f968be55",
   "metadata": {},
   "outputs": [],
   "source": [
    "from scipy.io import wavfile\n",
    "import scipy.signal as sig\n"
   ]
  },
  {
   "cell_type": "markdown",
   "id": "b5f232b7",
   "metadata": {},
   "source": [
    "# Exercise 2: Generate Triangular Waveform"
   ]
  },
  {
   "cell_type": "markdown",
   "id": "52290bf7",
   "metadata": {},
   "source": [
    "<img src=\"lab2_exercise2.png\" width=\"1000\">"
   ]
  },
  {
   "cell_type": "code",
   "execution_count": 97,
   "id": "6f08c981",
   "metadata": {},
   "outputs": [
    {
     "data": {
      "image/png": "[encoded data removed]",
      "text/plain": [
       "<Figure size 432x288 with 1 Axes>"
      ]
     },
     "metadata": {
      "needs_background": "light"
     },
     "output_type": "display_data"
    }
   ],
   "source": [
    "from scipy import signal\n",
    "import matplotlib.pyplot as plt\n",
    "import numpy as np\n",
    "\n",
    "t = np.linspace(0, 6, 600)\n",
    "plt.plot(t, signal.sawtooth(2 * np.pi/2 * 1 * t,0.5))  \n",
    "plt.xlabel(\"Time (seconds)\")\n",
    "plt.show()"
   ]
  },
  {
   "cell_type": "markdown",
   "id": "e7e50cec",
   "metadata": {},
   "source": [
    "# Exercise 3: Sinusoidal Generator"
   ]
  },
  {
   "cell_type": "markdown",
   "id": "c9c52034",
   "metadata": {},
   "source": [
    "<img src=\"lab2_exercise3.png\" width=\"1000\">"
   ]
  },
  {
   "cell_type": "code",
   "execution_count": null,
   "id": "295369c6",
   "metadata": {},
   "outputs": [],
   "source": [
    "# Define generate_sine function\n",
    "\n",
    "def generate_sine(t_duration, f0, fs):\n",
    "    t_arr = np.arrange(0,t_duration,1/fs)\n",
    "    amplitudes = np.array([])\n",
    "    for i in range(t_duration * fs):\n",
    "        currTime = t_duration / fs * i\n",
    "        currAmplitude = sin\n",
    "        np.insert(amplitudes, )\n",
    "    \n",
    "    \n",
    "    \n",
    "    return t_arr, amplitudes "
   ]
  },
  {
   "cell_type": "code",
   "execution_count": null,
   "id": "cbef858d",
   "metadata": {},
   "outputs": [],
   "source": [
    "# parameter set 1\n",
    "t_duration_1 = 5\n",
    "f0_1 = 0.5\n",
    "fs_1 = 100\n",
    "t_arr_1, amplitudes_1 = generate_sine(t_duration_1, f0_1, fs_1)\n",
    "\n",
    "# parameter set 2\n",
    "t_duration_2 = 5\n",
    "f0_2 = 1.\n",
    "fs_2 = 100\n",
    "t_arr_2, amplitudes_2 = generate_sine(t_duration_2, f0_2, fs_2)\n",
    "\n",
    "# parameter set 3\n",
    "t_duration_3 = 5\n",
    "f0_3 = 1.5\n",
    "fs_3 = 100\n",
    "t_arr_3, amplitudes_3 = generate_sine(t_duration_3, f0_3, fs_3)"
   ]
  },
  {
   "cell_type": "code",
   "execution_count": null,
   "id": "12f637bc",
   "metadata": {},
   "outputs": [],
   "source": [
    "# Plot 3 x 1 subplot showing all three waveform\n",
    "\n",
    "# YOUR CODE HERE"
   ]
  },
  {
   "cell_type": "markdown",
   "id": "8900ccf3",
   "metadata": {},
   "source": [
    "# Exercise 4: Notes Synthesis"
   ]
  },
  {
   "cell_type": "markdown",
   "id": "9c1e3145",
   "metadata": {},
   "source": [
    "<img src=\"lab2_exercise4.png\" width=\"1000\">"
   ]
  },
  {
   "cell_type": "code",
   "execution_count": 3,
   "id": "3f2407e5",
   "metadata": {},
   "outputs": [
    {
     "ename": "ModuleNotFoundError",
     "evalue": "No module named 'scipy'",
     "output_type": "error",
     "traceback": [
      "\u001b[0;31m---------------------------------------------------------------------------\u001b[0m",
      "\u001b[0;31mModuleNotFoundError\u001b[0m                       Traceback (most recent call last)",
      "Cell \u001b[0;32mIn [3], line 1\u001b[0m\n\u001b[0;32m----> 1\u001b[0m \u001b[38;5;28;01mfrom\u001b[39;00m \u001b[38;5;21;01mscipy\u001b[39;00m\u001b[38;5;21;01m.\u001b[39;00m\u001b[38;5;21;01mio\u001b[39;00m\u001b[38;5;21;01m.\u001b[39;00m\u001b[38;5;21;01mwavfile\u001b[39;00m \u001b[38;5;28;01mimport\u001b[39;00m write\n\u001b[1;32m      2\u001b[0m \u001b[38;5;28;01mfrom\u001b[39;00m \u001b[38;5;21;01mpylab\u001b[39;00m \u001b[38;5;28;01mimport\u001b[39;00m plot,show,axis\n\u001b[1;32m      4\u001b[0m tone \u001b[38;5;241m=\u001b[39m note(\u001b[38;5;241m440\u001b[39m,\u001b[38;5;241m2\u001b[39m,amp\u001b[38;5;241m=\u001b[39m\u001b[38;5;241m10000\u001b[39m)\n",
      "\u001b[0;31mModuleNotFoundError\u001b[0m: No module named 'scipy'"
     ]
    }
   ],
   "source": [
    "from scipy.io.wavfile import write\n",
    "from pylab import plot,show,axis\n",
    "\n",
    "tone = note(440,2,amp=10000)\n",
    "\n",
    "write('440hzAtone.wav',44100,tone) # writing the sound to a file\n",
    "\n",
    "plot(linspace(0,2,2*44100),tone)\n",
    "axis([0,0.4,15000,-15000])\n",
    "show()"
   ]
  },
  {
   "cell_type": "code",
   "execution_count": null,
   "id": "0ca4a13d",
   "metadata": {},
   "outputs": [],
   "source": [
    "# NOTE: Multiply your concatenated notes (with amplitude of 1) with 32767 followed by conversion to int16 format\n",
    "# before playing or writing your audio array into a file. "
   ]
  },
  {
   "cell_type": "markdown",
   "id": "6e9e2bf5",
   "metadata": {},
   "source": [
    "# Exercise 5: Chord Synthesis"
   ]
  },
  {
   "cell_type": "markdown",
   "id": "edd24d11",
   "metadata": {},
   "source": [
    "<img src=\"lab2_exercise5.png\" width=\"1000\">"
   ]
  },
  {
   "cell_type": "code",
   "execution_count": null,
   "id": "d7d9a753",
   "metadata": {},
   "outputs": [],
   "source": [
    "# YOUR CODE HERE"
   ]
  },
  {
   "cell_type": "code",
   "execution_count": null,
   "id": "b1883f16",
   "metadata": {},
   "outputs": [],
   "source": [
    "# NOTE: Multiply your concatenated notes (with amplitude of 1) with 32767 followed by conversion to int16 format\n",
    "# before playing or writing your audio array into a file. "
   ]
  }
 ],
 "metadata": {
  "kernelspec": {
   "display_name": "Python 3.10.5 64-bit",
   "language": "python",
   "name": "python3"
  },
  "language_info": {
   "codemirror_mode": {
    "name": "ipython",
    "version": 3
   },
   "file_extension": ".py",
   "mimetype": "text/x-python",
   "name": "python",
   "nbconvert_exporter": "python",
   "pygments_lexer": "ipython3",
   "version": "3.10.5"
  },
  "vscode": {
   "interpreter": {
    "hash": "aee8b7b246df8f9039afb4144a1f6fd8d2ca17a180786b69acc140d282b71a49"
   }
  }
 },
 "nbformat": 4,
 "nbformat_minor": 5
}
