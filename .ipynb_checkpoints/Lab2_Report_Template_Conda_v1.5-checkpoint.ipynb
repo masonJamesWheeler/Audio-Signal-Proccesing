{
 "cells": [
  {
   "cell_type": "markdown",
   "id": "45f15596",
   "metadata": {},
   "source": [
    "##### Author: Jimin Kim (jk55@uw.edu)\n",
    "##### Version 1.5.0"
   ]
  },
  {
   "cell_type": "markdown",
   "id": "386f8fca",
   "metadata": {},
   "source": [
    "# Lab 2 Report"
   ]
  },
  {
   "cell_type": "markdown",
   "id": "f90c1cd2",
   "metadata": {},
   "source": [
    "### Group Members:"
   ]
  },
  {
   "cell_type": "code",
   "execution_count": null,
   "id": "77d02be7",
   "metadata": {},
   "outputs": [],
   "source": [
    "import numpy as np"
   ]
  },
  {
   "cell_type": "markdown",
   "id": "d8208d76",
   "metadata": {},
   "source": [
    "# Exercise 1: Loops vs Numpy operations"
   ]
  },
  {
   "cell_type": "markdown",
   "id": "1804ca1d",
   "metadata": {},
   "source": [
    "<img src=\"lab2_exercise1.png\" width=\"1000\">"
   ]
  },
  {
   "cell_type": "code",
   "execution_count": null,
   "id": "03d6479d",
   "metadata": {},
   "outputs": [],
   "source": [
    "import time # Import time to measure computational efficiency of the code"
   ]
  },
  {
   "cell_type": "code",
   "execution_count": null,
   "id": "05eb4964",
   "metadata": {},
   "outputs": [],
   "source": [
    "arr2d_1 = np.random.randn(1000, 1000) * 10\n",
    "arr2d_2 = np.random.randn(1000, 1000) * 10"
   ]
  },
  {
   "cell_type": "code",
   "execution_count": null,
   "id": "e882592a",
   "metadata": {},
   "outputs": [],
   "source": [
    "# Elementwise addition using loop\n",
    "\n",
    "arr2d_3_loop = np.zeros((1000, 1000)) # Create a placeholder array for arr2d_3\n",
    "\n",
    "start_time_loop = time.time() # start time of the code\n",
    "\n",
    "for (i in range )\n",
    "\n",
    "end_time_loop = time.time() # end time of the code\n",
    "\n",
    "elapsed_time_loop = end_time_loop - start_time_loop # end time - start time -> elapsed time in seconds\n",
    "print(elapsed_time_loop)"
   ]
  },
  {
   "cell_type": "code",
   "execution_count": null,
   "id": "0086daf9",
   "metadata": {},
   "outputs": [],
   "source": [
    "# Elementwise addition using Numpy function\n",
    "\n",
    "start_time_np = time.time()\n",
    "\n",
    "arr2d_3_np = # YOUR CODE HERE\n",
    "\n",
    "end_time_np = time.time()\n",
    "\n",
    "elapsed_time_np = end_time_np - start_time_np\n",
    "print(elapsed_time_np)"
   ]
  },
  {
   "cell_type": "code",
   "execution_count": null,
   "id": "218b68fe",
   "metadata": {},
   "outputs": [],
   "source": [
    "# Make sure two outputs are equivalent\n",
    "\n",
    "np.sum(arr2d_3_loop == arr2d_3_np) == 1000 * 1000 # Should output True if the outputs are same"
   ]
  },
  {
   "cell_type": "markdown",
   "id": "f6353d1b",
   "metadata": {},
   "source": [
    "### Which computation is faster and by what factor?\n",
    "### e.g. a code that takes 0.1s is faster by a factor of 10 compared to a code that takes 1s"
   ]
  },
  {
   "cell_type": "code",
   "execution_count": null,
   "id": "f968be55",
   "metadata": {},
   "outputs": [],
   "source": []
  },
  {
   "cell_type": "markdown",
   "id": "b5f232b7",
   "metadata": {},
   "source": [
    "# Exercise 2: Generate Triangular Waveform"
   ]
  },
  {
   "cell_type": "markdown",
   "id": "52290bf7",
   "metadata": {},
   "source": [
    "<img src=\"lab2_exercise2.png\" width=\"1000\">"
   ]
  },
  {
   "cell_type": "code",
   "execution_count": null,
   "id": "6f08c981",
   "metadata": {},
   "outputs": [],
   "source": [
    "# Your code here"
   ]
  },
  {
   "cell_type": "markdown",
   "id": "e7e50cec",
   "metadata": {},
   "source": [
    "# Exercise 3: Sinusoidal Generator"
   ]
  },
  {
   "cell_type": "markdown",
   "id": "c9c52034",
   "metadata": {},
   "source": [
    "<img src=\"lab2_exercise3.png\" width=\"1000\">"
   ]
  },
  {
   "cell_type": "code",
   "execution_count": null,
   "id": "295369c6",
   "metadata": {},
   "outputs": [],
   "source": [
    "# Define generate_sine function\n",
    "\n",
    "def generate_sine(t_duration, f0, fs):\n",
    "    \n",
    "    # YOUR CODE HERE\n",
    "    \n",
    "    # Return 1D numpy arrays each containing timepoints and sine waveform amplitudes\n",
    "    return t_arr, amplitudes "
   ]
  },
  {
   "cell_type": "code",
   "execution_count": null,
   "id": "cbef858d",
   "metadata": {},
   "outputs": [],
   "source": [
    "# parameter set 1\n",
    "t_duration_1 = 5\n",
    "f0_1 = 0.5\n",
    "fs_1 = 100\n",
    "t_arr_1, amplitudes_1 = generate_sine(t_duration_1, f0_1, fs_1)\n",
    "\n",
    "# parameter set 2\n",
    "t_duration_2 = 5\n",
    "f0_2 = 1.\n",
    "fs_2 = 100\n",
    "t_arr_2, amplitudes_2 = generate_sine(t_duration_2, f0_2, fs_2)\n",
    "\n",
    "# parameter set 3\n",
    "t_duration_3 = 5\n",
    "f0_3 = 1.5\n",
    "fs_3 = 100\n",
    "t_arr_3, amplitudes_3 = generate_sine(t_duration_3, f0_3, fs_3)"
   ]
  },
  {
   "cell_type": "code",
   "execution_count": null,
   "id": "12f637bc",
   "metadata": {},
   "outputs": [],
   "source": [
    "# Plot 3 x 1 subplot showing all three waveform\n",
    "\n",
    "# YOUR CODE HERE"
   ]
  },
  {
   "cell_type": "markdown",
   "id": "8900ccf3",
   "metadata": {},
   "source": [
    "# Exercise 4: Notes Synthesis"
   ]
  },
  {
   "cell_type": "markdown",
   "id": "9c1e3145",
   "metadata": {},
   "source": [
    "<img src=\"lab2_exercise4.png\" width=\"1000\">"
   ]
  },
  {
   "cell_type": "code",
   "execution_count": null,
   "id": "3f2407e5",
   "metadata": {},
   "outputs": [],
   "source": [
    "# YOUR CODE HERE"
   ]
  },
  {
   "cell_type": "code",
   "execution_count": null,
   "id": "0ca4a13d",
   "metadata": {},
   "outputs": [],
   "source": [
    "# NOTE: Multiply your concatenated notes (with amplitude of 1) with 32767 followed by conversion to int16 format\n",
    "# before playing or writing your audio array into a file. "
   ]
  },
  {
   "cell_type": "markdown",
   "id": "6e9e2bf5",
   "metadata": {},
   "source": [
    "# Exercise 5: Chord Synthesis"
   ]
  },
  {
   "cell_type": "markdown",
   "id": "edd24d11",
   "metadata": {},
   "source": [
    "<img src=\"lab2_exercise5.png\" width=\"1000\">"
   ]
  },
  {
   "cell_type": "code",
   "execution_count": null,
   "id": "d7d9a753",
   "metadata": {},
   "outputs": [],
   "source": [
    "# YOUR CODE HERE"
   ]
  },
  {
   "cell_type": "code",
   "execution_count": null,
   "id": "b1883f16",
   "metadata": {},
   "outputs": [],
   "source": [
    "# NOTE: Multiply your concatenated notes (with amplitude of 1) with 32767 followed by conversion to int16 format\n",
    "# before playing or writing your audio array into a file. "
   ]
  }
 ],
 "metadata": {
  "kernelspec": {
   "display_name": "Python 3 (ipykernel)",
   "language": "python",
   "name": "python3"
  },
  "language_info": {
   "codemirror_mode": {
    "name": "ipython",
    "version": 3
   },
   "file_extension": ".py",
   "mimetype": "text/x-python",
   "name": "python",
   "nbconvert_exporter": "python",
   "pygments_lexer": "ipython3",
   "version": "3.9.12"
  }
 },
 "nbformat": 4,
 "nbformat_minor": 5
}
